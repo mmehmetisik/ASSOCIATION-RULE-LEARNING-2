{
 "cells": [
  {
   "cell_type": "markdown",
   "id": "cc623519",
   "metadata": {
    "papermill": {
     "duration": 0.012058,
     "end_time": "2023-06-22T13:33:26.290730",
     "exception": false,
     "start_time": "2023-06-22T13:33:26.278672",
     "status": "completed"
    },
    "tags": []
   },
   "source": [
    "![ARL](https://miro.medium.com/v2/resize:fit:532/0*d4HGOpwY6z2x1Rtk)"
   ]
  },
  {
   "cell_type": "markdown",
   "id": "a01ea8b3",
   "metadata": {
    "papermill": {
     "duration": 0.009577,
     "end_time": "2023-06-22T13:33:26.310398",
     "exception": false,
     "start_time": "2023-06-22T13:33:26.300821",
     "status": "completed"
    },
    "tags": []
   },
   "source": [
    "# What is Association Rule Learning\n",
    "\n",
    "- It is a rule-based machine learning technique used to find patterns in data. The Apriori Algorithm is used while the Association Rule Learning takes place. Apriori is a basket analysis method used to reveal product associations. \n",
    "\n",
    "- **There are 3 significant metrics in Apriori:**\n",
    "\n",
    "- **Support:** Measures how often products X and Y are purchased together\n",
    "- **Support(X, Y) = Freq(X, Y) / Total Transaction**\n",
    "\n",
    "- **Confidence:** Probability of purchasing product Y when product X is purchased\n",
    "- **Confidence(X, Y) = Freq(X, Y) / Freq(X)**\n",
    "\n",
    "- **Lift:** The coefficient of increase in the probability of purchasing product Y when product X is purchased.\n",
    "- **Lift = Support(X, Y) / (Support(X) * Support(Y))**"
   ]
  },
  {
   "cell_type": "markdown",
   "id": "e6d75b32",
   "metadata": {
    "papermill": {
     "duration": 0.009391,
     "end_time": "2023-06-22T13:33:26.329733",
     "exception": false,
     "start_time": "2023-06-22T13:33:26.320342",
     "status": "completed"
    },
    "tags": []
   },
   "source": [
    "# Business Problem\n",
    "\n",
    "- We want to create a product recommendation system with Association Rule Learning using a dataset containing service users and the services and categories that these users have received.\n",
    "\n"
   ]
  },
  {
   "cell_type": "markdown",
   "id": "24f4d0c2",
   "metadata": {
    "papermill": {
     "duration": 0.009391,
     "end_time": "2023-06-22T13:33:26.348928",
     "exception": false,
     "start_time": "2023-06-22T13:33:26.339537",
     "status": "completed"
    },
    "tags": []
   },
   "source": [
    "# Data Story\n",
    "\n",
    "- The data set consists of the services received by customers and the categories of these services.\n",
    "- It contains the date and time information of each service received.\n",
    "\n",
    "- **UserId:** Customer number\n",
    "- **ServiceId:** Anonymized services belonging to each category (Example: Sofa washing service under the cleaning category)\n",
    "- A ServiceId can be found under different categories and refers to different services under different categories. (Example: CategoryId 7 ServiceId 4  refers to honeycomb cleaning while CategoryId 2 ServiceId 4 refers to furniture assembly)\n",
    "- **CategoryId:** Anonymized categories (Example: Cleaning, transportation, renovation category)\n",
    "- **CreateDate:** Date the service was purchased"
   ]
  },
  {
   "cell_type": "markdown",
   "id": "0df7337d",
   "metadata": {
    "papermill": {
     "duration": 0.009435,
     "end_time": "2023-06-22T13:33:26.368184",
     "exception": false,
     "start_time": "2023-06-22T13:33:26.358749",
     "status": "completed"
    },
    "tags": []
   },
   "source": [
    "# Road Map\n",
    "\n",
    "- **1.** Data Preprocessing\n",
    "- **2.** Preparing the ARL Data Structure \n",
    "- **3.** Extraction of Association Rules\n",
    "- **4.** Suggesting Products to Users at the Cart Stage"
   ]
  },
  {
   "cell_type": "code",
   "execution_count": 1,
   "id": "6a44ca45",
   "metadata": {
    "execution": {
     "iopub.execute_input": "2023-06-22T13:33:26.389903Z",
     "iopub.status.busy": "2023-06-22T13:33:26.389192Z",
     "iopub.status.idle": "2023-06-22T13:33:41.091663Z",
     "shell.execute_reply": "2023-06-22T13:33:41.090201Z"
    },
    "papermill": {
     "duration": 14.716526,
     "end_time": "2023-06-22T13:33:41.094531",
     "exception": false,
     "start_time": "2023-06-22T13:33:26.378005",
     "status": "completed"
    },
    "tags": []
   },
   "outputs": [
    {
     "name": "stdout",
     "output_type": "stream",
     "text": [
      "Requirement already satisfied: mlxtend in /opt/conda/lib/python3.10/site-packages (0.22.0)\r\n",
      "Requirement already satisfied: scipy>=1.2.1 in /opt/conda/lib/python3.10/site-packages (from mlxtend) (1.10.1)\r\n",
      "Requirement already satisfied: numpy>=1.16.2 in /opt/conda/lib/python3.10/site-packages (from mlxtend) (1.23.5)\r\n",
      "Requirement already satisfied: pandas>=0.24.2 in /opt/conda/lib/python3.10/site-packages (from mlxtend) (1.5.3)\r\n",
      "Requirement already satisfied: scikit-learn>=1.0.2 in /opt/conda/lib/python3.10/site-packages (from mlxtend) (1.2.2)\r\n",
      "Requirement already satisfied: matplotlib>=3.0.0 in /opt/conda/lib/python3.10/site-packages (from mlxtend) (3.6.3)\r\n",
      "Requirement already satisfied: joblib>=0.13.2 in /opt/conda/lib/python3.10/site-packages (from mlxtend) (1.2.0)\r\n",
      "Requirement already satisfied: setuptools in /opt/conda/lib/python3.10/site-packages (from mlxtend) (59.8.0)\r\n",
      "Requirement already satisfied: contourpy>=1.0.1 in /opt/conda/lib/python3.10/site-packages (from matplotlib>=3.0.0->mlxtend) (1.0.7)\r\n",
      "Requirement already satisfied: cycler>=0.10 in /opt/conda/lib/python3.10/site-packages (from matplotlib>=3.0.0->mlxtend) (0.11.0)\r\n",
      "Requirement already satisfied: fonttools>=4.22.0 in /opt/conda/lib/python3.10/site-packages (from matplotlib>=3.0.0->mlxtend) (4.39.3)\r\n",
      "Requirement already satisfied: kiwisolver>=1.0.1 in /opt/conda/lib/python3.10/site-packages (from matplotlib>=3.0.0->mlxtend) (1.4.4)\r\n",
      "Requirement already satisfied: packaging>=20.0 in /opt/conda/lib/python3.10/site-packages (from matplotlib>=3.0.0->mlxtend) (21.3)\r\n",
      "Requirement already satisfied: pillow>=6.2.0 in /opt/conda/lib/python3.10/site-packages (from matplotlib>=3.0.0->mlxtend) (9.5.0)\r\n",
      "Requirement already satisfied: pyparsing>=2.2.1 in /opt/conda/lib/python3.10/site-packages (from matplotlib>=3.0.0->mlxtend) (3.0.9)\r\n",
      "Requirement already satisfied: python-dateutil>=2.7 in /opt/conda/lib/python3.10/site-packages (from matplotlib>=3.0.0->mlxtend) (2.8.2)\r\n",
      "Requirement already satisfied: pytz>=2020.1 in /opt/conda/lib/python3.10/site-packages (from pandas>=0.24.2->mlxtend) (2023.3)\r\n",
      "Requirement already satisfied: threadpoolctl>=2.0.0 in /opt/conda/lib/python3.10/site-packages (from scikit-learn>=1.0.2->mlxtend) (3.1.0)\r\n",
      "Requirement already satisfied: six>=1.5 in /opt/conda/lib/python3.10/site-packages (from python-dateutil>=2.7->matplotlib>=3.0.0->mlxtend) (1.16.0)\r\n",
      "\u001b[33mWARNING: Running pip as the 'root' user can result in broken permissions and conflicting behaviour with the system package manager. It is recommended to use a virtual environment instead: https://pip.pypa.io/warnings/venv\u001b[0m\u001b[33m\r\n",
      "\u001b[0m"
     ]
    }
   ],
   "source": [
    "!pip install mlxtend"
   ]
  },
  {
   "cell_type": "code",
   "execution_count": 2,
   "id": "5b002e8d",
   "metadata": {
    "execution": {
     "iopub.execute_input": "2023-06-22T13:33:41.117990Z",
     "iopub.status.busy": "2023-06-22T13:33:41.117548Z",
     "iopub.status.idle": "2023-06-22T13:33:41.136235Z",
     "shell.execute_reply": "2023-06-22T13:33:41.134969Z"
    },
    "papermill": {
     "duration": 0.033818,
     "end_time": "2023-06-22T13:33:41.139000",
     "exception": false,
     "start_time": "2023-06-22T13:33:41.105182",
     "status": "completed"
    },
    "tags": []
   },
   "outputs": [],
   "source": [
    "# import Required Libraries\n",
    "\n",
    "import pandas as pd\n",
    "import numpy as np\n",
    "from mlxtend.frequent_patterns import apriori, association_rules"
   ]
  },
  {
   "cell_type": "code",
   "execution_count": 3,
   "id": "e25aa3c9",
   "metadata": {
    "execution": {
     "iopub.execute_input": "2023-06-22T13:33:41.162281Z",
     "iopub.status.busy": "2023-06-22T13:33:41.161891Z",
     "iopub.status.idle": "2023-06-22T13:33:41.167504Z",
     "shell.execute_reply": "2023-06-22T13:33:41.166249Z"
    },
    "papermill": {
     "duration": 0.020089,
     "end_time": "2023-06-22T13:33:41.169752",
     "exception": false,
     "start_time": "2023-06-22T13:33:41.149663",
     "status": "completed"
    },
    "tags": []
   },
   "outputs": [],
   "source": [
    "# Adjusting Row Column Settings\n",
    "\n",
    "pd.set_option('display.max_columns', None)\n",
    "pd.set_option('display.max_rows', None)\n",
    "pd.set_option('display.width', 500)\n",
    "pd.set_option('display.expand_frame_repr', False)"
   ]
  },
  {
   "cell_type": "markdown",
   "id": "b0c312d9",
   "metadata": {
    "papermill": {
     "duration": 0.010115,
     "end_time": "2023-06-22T13:33:41.190376",
     "exception": false,
     "start_time": "2023-06-22T13:33:41.180261",
     "status": "completed"
    },
    "tags": []
   },
   "source": [
    "# 1. Data Preprocessing"
   ]
  },
  {
   "cell_type": "code",
   "execution_count": 4,
   "id": "71c8fd8a",
   "metadata": {
    "execution": {
     "iopub.execute_input": "2023-06-22T13:33:41.213102Z",
     "iopub.status.busy": "2023-06-22T13:33:41.212678Z",
     "iopub.status.idle": "2023-06-22T13:33:41.424734Z",
     "shell.execute_reply": "2023-06-22T13:33:41.423565Z"
    },
    "papermill": {
     "duration": 0.226727,
     "end_time": "2023-06-22T13:33:41.427510",
     "exception": false,
     "start_time": "2023-06-22T13:33:41.200783",
     "status": "completed"
    },
    "tags": []
   },
   "outputs": [],
   "source": [
    "# Loading the Data Set\n",
    "\n",
    "df_ = pd.read_csv(\"/kaggle/input/armut-data/armut_data.csv\")"
   ]
  },
  {
   "cell_type": "code",
   "execution_count": 5,
   "id": "9bbf80bf",
   "metadata": {
    "execution": {
     "iopub.execute_input": "2023-06-22T13:33:41.450158Z",
     "iopub.status.busy": "2023-06-22T13:33:41.449754Z",
     "iopub.status.idle": "2023-06-22T13:33:41.459696Z",
     "shell.execute_reply": "2023-06-22T13:33:41.458529Z"
    },
    "papermill": {
     "duration": 0.024377,
     "end_time": "2023-06-22T13:33:41.462336",
     "exception": false,
     "start_time": "2023-06-22T13:33:41.437959",
     "status": "completed"
    },
    "tags": []
   },
   "outputs": [],
   "source": [
    "df = df_.copy()"
   ]
  },
  {
   "cell_type": "code",
   "execution_count": 6,
   "id": "288eb819",
   "metadata": {
    "execution": {
     "iopub.execute_input": "2023-06-22T13:33:41.485615Z",
     "iopub.status.busy": "2023-06-22T13:33:41.484830Z",
     "iopub.status.idle": "2023-06-22T13:33:41.515634Z",
     "shell.execute_reply": "2023-06-22T13:33:41.514733Z"
    },
    "papermill": {
     "duration": 0.044732,
     "end_time": "2023-06-22T13:33:41.517809",
     "exception": false,
     "start_time": "2023-06-22T13:33:41.473077",
     "status": "completed"
    },
    "tags": []
   },
   "outputs": [
    {
     "data": {
      "text/html": [
       "<div>\n",
       "<style scoped>\n",
       "    .dataframe tbody tr th:only-of-type {\n",
       "        vertical-align: middle;\n",
       "    }\n",
       "\n",
       "    .dataframe tbody tr th {\n",
       "        vertical-align: top;\n",
       "    }\n",
       "\n",
       "    .dataframe thead th {\n",
       "        text-align: right;\n",
       "    }\n",
       "</style>\n",
       "<table border=\"1\" class=\"dataframe\">\n",
       "  <thead>\n",
       "    <tr style=\"text-align: right;\">\n",
       "      <th></th>\n",
       "      <th>UserId</th>\n",
       "      <th>ServiceId</th>\n",
       "      <th>CategoryId</th>\n",
       "      <th>CreateDate</th>\n",
       "    </tr>\n",
       "  </thead>\n",
       "  <tbody>\n",
       "    <tr>\n",
       "      <th>0</th>\n",
       "      <td>25446</td>\n",
       "      <td>4</td>\n",
       "      <td>5</td>\n",
       "      <td>2017-08-06 16:11:00</td>\n",
       "    </tr>\n",
       "    <tr>\n",
       "      <th>1</th>\n",
       "      <td>22948</td>\n",
       "      <td>48</td>\n",
       "      <td>5</td>\n",
       "      <td>2017-08-06 16:12:00</td>\n",
       "    </tr>\n",
       "    <tr>\n",
       "      <th>2</th>\n",
       "      <td>10618</td>\n",
       "      <td>0</td>\n",
       "      <td>8</td>\n",
       "      <td>2017-08-06 16:13:00</td>\n",
       "    </tr>\n",
       "    <tr>\n",
       "      <th>3</th>\n",
       "      <td>7256</td>\n",
       "      <td>9</td>\n",
       "      <td>4</td>\n",
       "      <td>2017-08-06 16:14:00</td>\n",
       "    </tr>\n",
       "    <tr>\n",
       "      <th>4</th>\n",
       "      <td>25446</td>\n",
       "      <td>48</td>\n",
       "      <td>5</td>\n",
       "      <td>2017-08-06 16:16:00</td>\n",
       "    </tr>\n",
       "  </tbody>\n",
       "</table>\n",
       "</div>"
      ],
      "text/plain": [
       "   UserId  ServiceId  CategoryId           CreateDate\n",
       "0   25446          4           5  2017-08-06 16:11:00\n",
       "1   22948         48           5  2017-08-06 16:12:00\n",
       "2   10618          0           8  2017-08-06 16:13:00\n",
       "3    7256          9           4  2017-08-06 16:14:00\n",
       "4   25446         48           5  2017-08-06 16:16:00"
      ]
     },
     "execution_count": 6,
     "metadata": {},
     "output_type": "execute_result"
    }
   ],
   "source": [
    "df.head()"
   ]
  },
  {
   "cell_type": "code",
   "execution_count": 7,
   "id": "a5cd6dff",
   "metadata": {
    "execution": {
     "iopub.execute_input": "2023-06-22T13:33:41.541331Z",
     "iopub.status.busy": "2023-06-22T13:33:41.540947Z",
     "iopub.status.idle": "2023-06-22T13:33:41.651475Z",
     "shell.execute_reply": "2023-06-22T13:33:41.649838Z"
    },
    "papermill": {
     "duration": 0.125355,
     "end_time": "2023-06-22T13:33:41.653959",
     "exception": false,
     "start_time": "2023-06-22T13:33:41.528604",
     "status": "completed"
    },
    "tags": []
   },
   "outputs": [
    {
     "name": "stdout",
     "output_type": "stream",
     "text": [
      "##################### Shape #####################\n",
      "(162523, 4)\n",
      "##################### Types #####################\n",
      "UserId         int64\n",
      "ServiceId      int64\n",
      "CategoryId     int64\n",
      "CreateDate    object\n",
      "dtype: object\n",
      "##################### Head #####################\n",
      "   UserId  ServiceId  CategoryId           CreateDate\n",
      "0   25446          4           5  2017-08-06 16:11:00\n",
      "1   22948         48           5  2017-08-06 16:12:00\n",
      "2   10618          0           8  2017-08-06 16:13:00\n",
      "3    7256          9           4  2017-08-06 16:14:00\n",
      "4   25446         48           5  2017-08-06 16:16:00\n",
      "##################### Tail #####################\n",
      "        UserId  ServiceId  CategoryId           CreateDate\n",
      "162518   10591         25           0  2018-08-06 14:40:00\n",
      "162519   10591          2           0  2018-08-06 14:43:00\n",
      "162520   10591         31           6  2018-08-06 14:47:00\n",
      "162521   12666         38           4  2018-08-06 16:01:00\n",
      "162522   17497         47           7  2018-08-06 16:04:00\n",
      "##################### NA #####################\n",
      "UserId        0\n",
      "ServiceId     0\n",
      "CategoryId    0\n",
      "CreateDate    0\n",
      "dtype: int64\n",
      "##################### Quantiles #####################\n",
      "               count          mean          std  min   0%      5%      50%      95%      99%     100%      max\n",
      "UserId      162523.0  13089.803862  7325.816060  0.0  0.0  1390.0  13139.0  24455.0  25490.0  25744.0  25744.0\n",
      "ServiceId   162523.0     21.641140    13.774405  0.0  0.0     2.0     18.0     48.0     49.0     49.0     49.0\n",
      "CategoryId  162523.0      4.325917     3.129292  0.0  0.0     0.0      4.0     11.0     11.0     11.0     11.0\n"
     ]
    }
   ],
   "source": [
    "# Preliminary examination of the data set\n",
    "\n",
    "def check_df(dataframe, head=5):\n",
    "    print('##################### Shape #####################')\n",
    "    print(dataframe.shape)\n",
    "    print('##################### Types #####################')\n",
    "    print(dataframe.dtypes)\n",
    "    print('##################### Head #####################')\n",
    "    print(dataframe.head(head))\n",
    "    print('##################### Tail #####################')\n",
    "    print(dataframe.tail(head))\n",
    "    print('##################### NA #####################')\n",
    "    print(dataframe.isnull().sum())\n",
    "    print('##################### Quantiles #####################')\n",
    "    print(dataframe.describe([0, 0.05, 0.50, 0.95, 0.99, 1]).T)\n",
    "\n",
    "check_df(df)"
   ]
  },
  {
   "cell_type": "markdown",
   "id": "6a742090",
   "metadata": {
    "papermill": {
     "duration": 0.010453,
     "end_time": "2023-06-22T13:33:41.675292",
     "exception": false,
     "start_time": "2023-06-22T13:33:41.664839",
     "status": "completed"
    },
    "tags": []
   },
   "source": [
    "# 2. Preparing the ARL Data Structure (Invoice-Product Matrix)"
   ]
  },
  {
   "cell_type": "code",
   "execution_count": 8,
   "id": "a99b3b45",
   "metadata": {
    "execution": {
     "iopub.execute_input": "2023-06-22T13:33:41.699536Z",
     "iopub.status.busy": "2023-06-22T13:33:41.699125Z",
     "iopub.status.idle": "2023-06-22T13:33:41.919701Z",
     "shell.execute_reply": "2023-06-22T13:33:41.918557Z"
    },
    "papermill": {
     "duration": 0.235902,
     "end_time": "2023-06-22T13:33:41.922491",
     "exception": false,
     "start_time": "2023-06-22T13:33:41.686589",
     "status": "completed"
    },
    "tags": []
   },
   "outputs": [],
   "source": [
    "# We created a new variable to represent services by combining ServiceID and CategoryID with \"_\"\n",
    "\n",
    "df[\"Hizmet\"] = [str(row[1]) + \"_\" + str(row[2]) for row in df.values]"
   ]
  },
  {
   "cell_type": "code",
   "execution_count": 9,
   "id": "7b08ccec",
   "metadata": {
    "execution": {
     "iopub.execute_input": "2023-06-22T13:33:41.945815Z",
     "iopub.status.busy": "2023-06-22T13:33:41.945426Z",
     "iopub.status.idle": "2023-06-22T13:33:41.957347Z",
     "shell.execute_reply": "2023-06-22T13:33:41.956215Z"
    },
    "papermill": {
     "duration": 0.026375,
     "end_time": "2023-06-22T13:33:41.959658",
     "exception": false,
     "start_time": "2023-06-22T13:33:41.933283",
     "status": "completed"
    },
    "tags": []
   },
   "outputs": [
    {
     "data": {
      "text/html": [
       "<div>\n",
       "<style scoped>\n",
       "    .dataframe tbody tr th:only-of-type {\n",
       "        vertical-align: middle;\n",
       "    }\n",
       "\n",
       "    .dataframe tbody tr th {\n",
       "        vertical-align: top;\n",
       "    }\n",
       "\n",
       "    .dataframe thead th {\n",
       "        text-align: right;\n",
       "    }\n",
       "</style>\n",
       "<table border=\"1\" class=\"dataframe\">\n",
       "  <thead>\n",
       "    <tr style=\"text-align: right;\">\n",
       "      <th></th>\n",
       "      <th>UserId</th>\n",
       "      <th>ServiceId</th>\n",
       "      <th>CategoryId</th>\n",
       "      <th>CreateDate</th>\n",
       "      <th>Hizmet</th>\n",
       "    </tr>\n",
       "  </thead>\n",
       "  <tbody>\n",
       "    <tr>\n",
       "      <th>0</th>\n",
       "      <td>25446</td>\n",
       "      <td>4</td>\n",
       "      <td>5</td>\n",
       "      <td>2017-08-06 16:11:00</td>\n",
       "      <td>4_5</td>\n",
       "    </tr>\n",
       "    <tr>\n",
       "      <th>1</th>\n",
       "      <td>22948</td>\n",
       "      <td>48</td>\n",
       "      <td>5</td>\n",
       "      <td>2017-08-06 16:12:00</td>\n",
       "      <td>48_5</td>\n",
       "    </tr>\n",
       "    <tr>\n",
       "      <th>2</th>\n",
       "      <td>10618</td>\n",
       "      <td>0</td>\n",
       "      <td>8</td>\n",
       "      <td>2017-08-06 16:13:00</td>\n",
       "      <td>0_8</td>\n",
       "    </tr>\n",
       "    <tr>\n",
       "      <th>3</th>\n",
       "      <td>7256</td>\n",
       "      <td>9</td>\n",
       "      <td>4</td>\n",
       "      <td>2017-08-06 16:14:00</td>\n",
       "      <td>9_4</td>\n",
       "    </tr>\n",
       "    <tr>\n",
       "      <th>4</th>\n",
       "      <td>25446</td>\n",
       "      <td>48</td>\n",
       "      <td>5</td>\n",
       "      <td>2017-08-06 16:16:00</td>\n",
       "      <td>48_5</td>\n",
       "    </tr>\n",
       "  </tbody>\n",
       "</table>\n",
       "</div>"
      ],
      "text/plain": [
       "   UserId  ServiceId  CategoryId           CreateDate Hizmet\n",
       "0   25446          4           5  2017-08-06 16:11:00    4_5\n",
       "1   22948         48           5  2017-08-06 16:12:00   48_5\n",
       "2   10618          0           8  2017-08-06 16:13:00    0_8\n",
       "3    7256          9           4  2017-08-06 16:14:00    9_4\n",
       "4   25446         48           5  2017-08-06 16:16:00   48_5"
      ]
     },
     "execution_count": 9,
     "metadata": {},
     "output_type": "execute_result"
    }
   ],
   "source": [
    "df.head()"
   ]
  },
  {
   "cell_type": "markdown",
   "id": "f85b73cd",
   "metadata": {
    "papermill": {
     "duration": 0.010673,
     "end_time": "2023-06-22T13:33:41.981340",
     "exception": false,
     "start_time": "2023-06-22T13:33:41.970667",
     "status": "completed"
    },
    "tags": []
   },
   "source": [
    "- The data set consists of the date and time when the services were received, there is no basket definition (invoice etc.). In order to apply Association Rule Learning, a basket (invoice etc.) definition must be created. Here, the basket definition is the monthly services received by each customer. For example; 9_4, 46_4 services received by the customer with id 7256 in the 8th month of 2017 represent one basket; 9_4, 38_4 services received in the 10th month of 2017 represent another basket. Baskets should be identified with a unique ID. For this, we first created a new date variable containing only year and month. We assigned the UserID and the date variable you just created to a new variable called ID by combining it with \"_\"."
   ]
  },
  {
   "cell_type": "code",
   "execution_count": 10,
   "id": "91e2a911",
   "metadata": {
    "execution": {
     "iopub.execute_input": "2023-06-22T13:33:42.005743Z",
     "iopub.status.busy": "2023-06-22T13:33:42.004682Z",
     "iopub.status.idle": "2023-06-22T13:33:42.136982Z",
     "shell.execute_reply": "2023-06-22T13:33:42.135757Z"
    },
    "papermill": {
     "duration": 0.147316,
     "end_time": "2023-06-22T13:33:42.139730",
     "exception": false,
     "start_time": "2023-06-22T13:33:41.992414",
     "status": "completed"
    },
    "tags": []
   },
   "outputs": [],
   "source": [
    "df[\"CreateDate\"] = pd.to_datetime(df[\"CreateDate\"])"
   ]
  },
  {
   "cell_type": "code",
   "execution_count": 11,
   "id": "2818da8d",
   "metadata": {
    "execution": {
     "iopub.execute_input": "2023-06-22T13:33:42.164554Z",
     "iopub.status.busy": "2023-06-22T13:33:42.163482Z",
     "iopub.status.idle": "2023-06-22T13:33:42.175548Z",
     "shell.execute_reply": "2023-06-22T13:33:42.174467Z"
    },
    "papermill": {
     "duration": 0.027573,
     "end_time": "2023-06-22T13:33:42.178280",
     "exception": false,
     "start_time": "2023-06-22T13:33:42.150707",
     "status": "completed"
    },
    "tags": []
   },
   "outputs": [
    {
     "data": {
      "text/html": [
       "<div>\n",
       "<style scoped>\n",
       "    .dataframe tbody tr th:only-of-type {\n",
       "        vertical-align: middle;\n",
       "    }\n",
       "\n",
       "    .dataframe tbody tr th {\n",
       "        vertical-align: top;\n",
       "    }\n",
       "\n",
       "    .dataframe thead th {\n",
       "        text-align: right;\n",
       "    }\n",
       "</style>\n",
       "<table border=\"1\" class=\"dataframe\">\n",
       "  <thead>\n",
       "    <tr style=\"text-align: right;\">\n",
       "      <th></th>\n",
       "      <th>UserId</th>\n",
       "      <th>ServiceId</th>\n",
       "      <th>CategoryId</th>\n",
       "      <th>CreateDate</th>\n",
       "      <th>Hizmet</th>\n",
       "    </tr>\n",
       "  </thead>\n",
       "  <tbody>\n",
       "    <tr>\n",
       "      <th>0</th>\n",
       "      <td>25446</td>\n",
       "      <td>4</td>\n",
       "      <td>5</td>\n",
       "      <td>2017-08-06 16:11:00</td>\n",
       "      <td>4_5</td>\n",
       "    </tr>\n",
       "    <tr>\n",
       "      <th>1</th>\n",
       "      <td>22948</td>\n",
       "      <td>48</td>\n",
       "      <td>5</td>\n",
       "      <td>2017-08-06 16:12:00</td>\n",
       "      <td>48_5</td>\n",
       "    </tr>\n",
       "    <tr>\n",
       "      <th>2</th>\n",
       "      <td>10618</td>\n",
       "      <td>0</td>\n",
       "      <td>8</td>\n",
       "      <td>2017-08-06 16:13:00</td>\n",
       "      <td>0_8</td>\n",
       "    </tr>\n",
       "    <tr>\n",
       "      <th>3</th>\n",
       "      <td>7256</td>\n",
       "      <td>9</td>\n",
       "      <td>4</td>\n",
       "      <td>2017-08-06 16:14:00</td>\n",
       "      <td>9_4</td>\n",
       "    </tr>\n",
       "    <tr>\n",
       "      <th>4</th>\n",
       "      <td>25446</td>\n",
       "      <td>48</td>\n",
       "      <td>5</td>\n",
       "      <td>2017-08-06 16:16:00</td>\n",
       "      <td>48_5</td>\n",
       "    </tr>\n",
       "  </tbody>\n",
       "</table>\n",
       "</div>"
      ],
      "text/plain": [
       "   UserId  ServiceId  CategoryId          CreateDate Hizmet\n",
       "0   25446          4           5 2017-08-06 16:11:00    4_5\n",
       "1   22948         48           5 2017-08-06 16:12:00   48_5\n",
       "2   10618          0           8 2017-08-06 16:13:00    0_8\n",
       "3    7256          9           4 2017-08-06 16:14:00    9_4\n",
       "4   25446         48           5 2017-08-06 16:16:00   48_5"
      ]
     },
     "execution_count": 11,
     "metadata": {},
     "output_type": "execute_result"
    }
   ],
   "source": [
    "df.head()"
   ]
  },
  {
   "cell_type": "code",
   "execution_count": 12,
   "id": "f15b4377",
   "metadata": {
    "execution": {
     "iopub.execute_input": "2023-06-22T13:33:42.203263Z",
     "iopub.status.busy": "2023-06-22T13:33:42.202630Z",
     "iopub.status.idle": "2023-06-22T13:33:43.342910Z",
     "shell.execute_reply": "2023-06-22T13:33:43.341649Z"
    },
    "papermill": {
     "duration": 1.156307,
     "end_time": "2023-06-22T13:33:43.345884",
     "exception": false,
     "start_time": "2023-06-22T13:33:42.189577",
     "status": "completed"
    },
    "tags": []
   },
   "outputs": [],
   "source": [
    "df[\"NEW_DATE\"] = df[\"CreateDate\"].dt.strftime(\"%Y-%m\")"
   ]
  },
  {
   "cell_type": "code",
   "execution_count": 13,
   "id": "4261b3da",
   "metadata": {
    "execution": {
     "iopub.execute_input": "2023-06-22T13:33:43.371001Z",
     "iopub.status.busy": "2023-06-22T13:33:43.370599Z",
     "iopub.status.idle": "2023-06-22T13:33:43.384114Z",
     "shell.execute_reply": "2023-06-22T13:33:43.383066Z"
    },
    "papermill": {
     "duration": 0.029594,
     "end_time": "2023-06-22T13:33:43.387405",
     "exception": false,
     "start_time": "2023-06-22T13:33:43.357811",
     "status": "completed"
    },
    "tags": []
   },
   "outputs": [
    {
     "data": {
      "text/html": [
       "<div>\n",
       "<style scoped>\n",
       "    .dataframe tbody tr th:only-of-type {\n",
       "        vertical-align: middle;\n",
       "    }\n",
       "\n",
       "    .dataframe tbody tr th {\n",
       "        vertical-align: top;\n",
       "    }\n",
       "\n",
       "    .dataframe thead th {\n",
       "        text-align: right;\n",
       "    }\n",
       "</style>\n",
       "<table border=\"1\" class=\"dataframe\">\n",
       "  <thead>\n",
       "    <tr style=\"text-align: right;\">\n",
       "      <th></th>\n",
       "      <th>UserId</th>\n",
       "      <th>ServiceId</th>\n",
       "      <th>CategoryId</th>\n",
       "      <th>CreateDate</th>\n",
       "      <th>Hizmet</th>\n",
       "      <th>NEW_DATE</th>\n",
       "    </tr>\n",
       "  </thead>\n",
       "  <tbody>\n",
       "    <tr>\n",
       "      <th>0</th>\n",
       "      <td>25446</td>\n",
       "      <td>4</td>\n",
       "      <td>5</td>\n",
       "      <td>2017-08-06 16:11:00</td>\n",
       "      <td>4_5</td>\n",
       "      <td>2017-08</td>\n",
       "    </tr>\n",
       "    <tr>\n",
       "      <th>1</th>\n",
       "      <td>22948</td>\n",
       "      <td>48</td>\n",
       "      <td>5</td>\n",
       "      <td>2017-08-06 16:12:00</td>\n",
       "      <td>48_5</td>\n",
       "      <td>2017-08</td>\n",
       "    </tr>\n",
       "    <tr>\n",
       "      <th>2</th>\n",
       "      <td>10618</td>\n",
       "      <td>0</td>\n",
       "      <td>8</td>\n",
       "      <td>2017-08-06 16:13:00</td>\n",
       "      <td>0_8</td>\n",
       "      <td>2017-08</td>\n",
       "    </tr>\n",
       "    <tr>\n",
       "      <th>3</th>\n",
       "      <td>7256</td>\n",
       "      <td>9</td>\n",
       "      <td>4</td>\n",
       "      <td>2017-08-06 16:14:00</td>\n",
       "      <td>9_4</td>\n",
       "      <td>2017-08</td>\n",
       "    </tr>\n",
       "    <tr>\n",
       "      <th>4</th>\n",
       "      <td>25446</td>\n",
       "      <td>48</td>\n",
       "      <td>5</td>\n",
       "      <td>2017-08-06 16:16:00</td>\n",
       "      <td>48_5</td>\n",
       "      <td>2017-08</td>\n",
       "    </tr>\n",
       "  </tbody>\n",
       "</table>\n",
       "</div>"
      ],
      "text/plain": [
       "   UserId  ServiceId  CategoryId          CreateDate Hizmet NEW_DATE\n",
       "0   25446          4           5 2017-08-06 16:11:00    4_5  2017-08\n",
       "1   22948         48           5 2017-08-06 16:12:00   48_5  2017-08\n",
       "2   10618          0           8 2017-08-06 16:13:00    0_8  2017-08\n",
       "3    7256          9           4 2017-08-06 16:14:00    9_4  2017-08\n",
       "4   25446         48           5 2017-08-06 16:16:00   48_5  2017-08"
      ]
     },
     "execution_count": 13,
     "metadata": {},
     "output_type": "execute_result"
    }
   ],
   "source": [
    "df.head()"
   ]
  },
  {
   "cell_type": "code",
   "execution_count": 14,
   "id": "9affe1ea",
   "metadata": {
    "execution": {
     "iopub.execute_input": "2023-06-22T13:33:43.412766Z",
     "iopub.status.busy": "2023-06-22T13:33:43.412036Z",
     "iopub.status.idle": "2023-06-22T13:33:44.165521Z",
     "shell.execute_reply": "2023-06-22T13:33:44.164406Z"
    },
    "papermill": {
     "duration": 0.769234,
     "end_time": "2023-06-22T13:33:44.168110",
     "exception": false,
     "start_time": "2023-06-22T13:33:43.398876",
     "status": "completed"
    },
    "tags": []
   },
   "outputs": [],
   "source": [
    "df[\"SepetID\"] = [str(row[0]) + \"_\" + str(row[5]) for row in df.values]"
   ]
  },
  {
   "cell_type": "code",
   "execution_count": 15,
   "id": "26ece41f",
   "metadata": {
    "execution": {
     "iopub.execute_input": "2023-06-22T13:33:44.193044Z",
     "iopub.status.busy": "2023-06-22T13:33:44.192609Z",
     "iopub.status.idle": "2023-06-22T13:33:44.206203Z",
     "shell.execute_reply": "2023-06-22T13:33:44.205083Z"
    },
    "papermill": {
     "duration": 0.029167,
     "end_time": "2023-06-22T13:33:44.208828",
     "exception": false,
     "start_time": "2023-06-22T13:33:44.179661",
     "status": "completed"
    },
    "tags": []
   },
   "outputs": [
    {
     "data": {
      "text/html": [
       "<div>\n",
       "<style scoped>\n",
       "    .dataframe tbody tr th:only-of-type {\n",
       "        vertical-align: middle;\n",
       "    }\n",
       "\n",
       "    .dataframe tbody tr th {\n",
       "        vertical-align: top;\n",
       "    }\n",
       "\n",
       "    .dataframe thead th {\n",
       "        text-align: right;\n",
       "    }\n",
       "</style>\n",
       "<table border=\"1\" class=\"dataframe\">\n",
       "  <thead>\n",
       "    <tr style=\"text-align: right;\">\n",
       "      <th></th>\n",
       "      <th>UserId</th>\n",
       "      <th>ServiceId</th>\n",
       "      <th>CategoryId</th>\n",
       "      <th>CreateDate</th>\n",
       "      <th>Hizmet</th>\n",
       "      <th>NEW_DATE</th>\n",
       "      <th>SepetID</th>\n",
       "    </tr>\n",
       "  </thead>\n",
       "  <tbody>\n",
       "    <tr>\n",
       "      <th>0</th>\n",
       "      <td>25446</td>\n",
       "      <td>4</td>\n",
       "      <td>5</td>\n",
       "      <td>2017-08-06 16:11:00</td>\n",
       "      <td>4_5</td>\n",
       "      <td>2017-08</td>\n",
       "      <td>25446_2017-08</td>\n",
       "    </tr>\n",
       "    <tr>\n",
       "      <th>1</th>\n",
       "      <td>22948</td>\n",
       "      <td>48</td>\n",
       "      <td>5</td>\n",
       "      <td>2017-08-06 16:12:00</td>\n",
       "      <td>48_5</td>\n",
       "      <td>2017-08</td>\n",
       "      <td>22948_2017-08</td>\n",
       "    </tr>\n",
       "    <tr>\n",
       "      <th>2</th>\n",
       "      <td>10618</td>\n",
       "      <td>0</td>\n",
       "      <td>8</td>\n",
       "      <td>2017-08-06 16:13:00</td>\n",
       "      <td>0_8</td>\n",
       "      <td>2017-08</td>\n",
       "      <td>10618_2017-08</td>\n",
       "    </tr>\n",
       "    <tr>\n",
       "      <th>3</th>\n",
       "      <td>7256</td>\n",
       "      <td>9</td>\n",
       "      <td>4</td>\n",
       "      <td>2017-08-06 16:14:00</td>\n",
       "      <td>9_4</td>\n",
       "      <td>2017-08</td>\n",
       "      <td>7256_2017-08</td>\n",
       "    </tr>\n",
       "    <tr>\n",
       "      <th>4</th>\n",
       "      <td>25446</td>\n",
       "      <td>48</td>\n",
       "      <td>5</td>\n",
       "      <td>2017-08-06 16:16:00</td>\n",
       "      <td>48_5</td>\n",
       "      <td>2017-08</td>\n",
       "      <td>25446_2017-08</td>\n",
       "    </tr>\n",
       "  </tbody>\n",
       "</table>\n",
       "</div>"
      ],
      "text/plain": [
       "   UserId  ServiceId  CategoryId          CreateDate Hizmet NEW_DATE        SepetID\n",
       "0   25446          4           5 2017-08-06 16:11:00    4_5  2017-08  25446_2017-08\n",
       "1   22948         48           5 2017-08-06 16:12:00   48_5  2017-08  22948_2017-08\n",
       "2   10618          0           8 2017-08-06 16:13:00    0_8  2017-08  10618_2017-08\n",
       "3    7256          9           4 2017-08-06 16:14:00    9_4  2017-08   7256_2017-08\n",
       "4   25446         48           5 2017-08-06 16:16:00   48_5  2017-08  25446_2017-08"
      ]
     },
     "execution_count": 15,
     "metadata": {},
     "output_type": "execute_result"
    }
   ],
   "source": [
    "df.head()"
   ]
  },
  {
   "cell_type": "markdown",
   "id": "8c837177",
   "metadata": {
    "papermill": {
     "duration": 0.011577,
     "end_time": "2023-06-22T13:33:44.232417",
     "exception": false,
     "start_time": "2023-06-22T13:33:44.220840",
     "status": "completed"
    },
    "tags": []
   },
   "source": [
    "# 3. Extraction of Association Rules"
   ]
  },
  {
   "cell_type": "code",
   "execution_count": 16,
   "id": "7f3f93da",
   "metadata": {
    "execution": {
     "iopub.execute_input": "2023-06-22T13:33:44.257947Z",
     "iopub.status.busy": "2023-06-22T13:33:44.257552Z",
     "iopub.status.idle": "2023-06-22T13:33:47.589670Z",
     "shell.execute_reply": "2023-06-22T13:33:47.588701Z"
    },
    "papermill": {
     "duration": 3.348437,
     "end_time": "2023-06-22T13:33:47.592595",
     "exception": false,
     "start_time": "2023-06-22T13:33:44.244158",
     "status": "completed"
    },
    "tags": []
   },
   "outputs": [],
   "source": [
    "# Invoice-Product Matrix created\n",
    "\n",
    "invoice_product_df = df.groupby(['SepetID', 'Hizmet'])['Hizmet'].count().unstack().fillna(0).applymap(lambda x: 1 if x > 0 else 0)"
   ]
  },
  {
   "cell_type": "code",
   "execution_count": 17,
   "id": "91968c10",
   "metadata": {
    "execution": {
     "iopub.execute_input": "2023-06-22T13:33:47.618641Z",
     "iopub.status.busy": "2023-06-22T13:33:47.617607Z",
     "iopub.status.idle": "2023-06-22T13:33:47.646926Z",
     "shell.execute_reply": "2023-06-22T13:33:47.645899Z"
    },
    "papermill": {
     "duration": 0.044919,
     "end_time": "2023-06-22T13:33:47.649409",
     "exception": false,
     "start_time": "2023-06-22T13:33:47.604490",
     "status": "completed"
    },
    "tags": []
   },
   "outputs": [
    {
     "data": {
      "text/html": [
       "<div>\n",
       "<style scoped>\n",
       "    .dataframe tbody tr th:only-of-type {\n",
       "        vertical-align: middle;\n",
       "    }\n",
       "\n",
       "    .dataframe tbody tr th {\n",
       "        vertical-align: top;\n",
       "    }\n",
       "\n",
       "    .dataframe thead th {\n",
       "        text-align: right;\n",
       "    }\n",
       "</style>\n",
       "<table border=\"1\" class=\"dataframe\">\n",
       "  <thead>\n",
       "    <tr style=\"text-align: right;\">\n",
       "      <th>Hizmet</th>\n",
       "      <th>0_8</th>\n",
       "      <th>10_9</th>\n",
       "      <th>11_11</th>\n",
       "      <th>12_7</th>\n",
       "      <th>13_11</th>\n",
       "      <th>14_7</th>\n",
       "      <th>15_1</th>\n",
       "      <th>16_8</th>\n",
       "      <th>17_5</th>\n",
       "      <th>18_4</th>\n",
       "      <th>19_6</th>\n",
       "      <th>1_4</th>\n",
       "      <th>20_5</th>\n",
       "      <th>21_5</th>\n",
       "      <th>22_0</th>\n",
       "      <th>23_10</th>\n",
       "      <th>24_10</th>\n",
       "      <th>25_0</th>\n",
       "      <th>26_7</th>\n",
       "      <th>27_7</th>\n",
       "      <th>28_4</th>\n",
       "      <th>29_0</th>\n",
       "      <th>2_0</th>\n",
       "      <th>30_2</th>\n",
       "      <th>31_6</th>\n",
       "      <th>32_4</th>\n",
       "      <th>33_4</th>\n",
       "      <th>34_6</th>\n",
       "      <th>35_11</th>\n",
       "      <th>36_1</th>\n",
       "      <th>37_0</th>\n",
       "      <th>38_4</th>\n",
       "      <th>39_10</th>\n",
       "      <th>3_5</th>\n",
       "      <th>40_8</th>\n",
       "      <th>41_3</th>\n",
       "      <th>42_1</th>\n",
       "      <th>43_2</th>\n",
       "      <th>44_0</th>\n",
       "      <th>45_6</th>\n",
       "      <th>46_4</th>\n",
       "      <th>47_7</th>\n",
       "      <th>48_5</th>\n",
       "      <th>49_1</th>\n",
       "      <th>4_5</th>\n",
       "      <th>5_11</th>\n",
       "      <th>6_7</th>\n",
       "      <th>7_3</th>\n",
       "      <th>8_5</th>\n",
       "      <th>9_4</th>\n",
       "    </tr>\n",
       "    <tr>\n",
       "      <th>SepetID</th>\n",
       "      <th></th>\n",
       "      <th></th>\n",
       "      <th></th>\n",
       "      <th></th>\n",
       "      <th></th>\n",
       "      <th></th>\n",
       "      <th></th>\n",
       "      <th></th>\n",
       "      <th></th>\n",
       "      <th></th>\n",
       "      <th></th>\n",
       "      <th></th>\n",
       "      <th></th>\n",
       "      <th></th>\n",
       "      <th></th>\n",
       "      <th></th>\n",
       "      <th></th>\n",
       "      <th></th>\n",
       "      <th></th>\n",
       "      <th></th>\n",
       "      <th></th>\n",
       "      <th></th>\n",
       "      <th></th>\n",
       "      <th></th>\n",
       "      <th></th>\n",
       "      <th></th>\n",
       "      <th></th>\n",
       "      <th></th>\n",
       "      <th></th>\n",
       "      <th></th>\n",
       "      <th></th>\n",
       "      <th></th>\n",
       "      <th></th>\n",
       "      <th></th>\n",
       "      <th></th>\n",
       "      <th></th>\n",
       "      <th></th>\n",
       "      <th></th>\n",
       "      <th></th>\n",
       "      <th></th>\n",
       "      <th></th>\n",
       "      <th></th>\n",
       "      <th></th>\n",
       "      <th></th>\n",
       "      <th></th>\n",
       "      <th></th>\n",
       "      <th></th>\n",
       "      <th></th>\n",
       "      <th></th>\n",
       "      <th></th>\n",
       "    </tr>\n",
       "  </thead>\n",
       "  <tbody>\n",
       "    <tr>\n",
       "      <th>0_2017-08</th>\n",
       "      <td>0</td>\n",
       "      <td>0</td>\n",
       "      <td>0</td>\n",
       "      <td>0</td>\n",
       "      <td>0</td>\n",
       "      <td>0</td>\n",
       "      <td>0</td>\n",
       "      <td>0</td>\n",
       "      <td>0</td>\n",
       "      <td>0</td>\n",
       "      <td>0</td>\n",
       "      <td>0</td>\n",
       "      <td>0</td>\n",
       "      <td>0</td>\n",
       "      <td>0</td>\n",
       "      <td>0</td>\n",
       "      <td>0</td>\n",
       "      <td>0</td>\n",
       "      <td>0</td>\n",
       "      <td>0</td>\n",
       "      <td>0</td>\n",
       "      <td>0</td>\n",
       "      <td>0</td>\n",
       "      <td>0</td>\n",
       "      <td>0</td>\n",
       "      <td>0</td>\n",
       "      <td>0</td>\n",
       "      <td>0</td>\n",
       "      <td>0</td>\n",
       "      <td>0</td>\n",
       "      <td>0</td>\n",
       "      <td>0</td>\n",
       "      <td>0</td>\n",
       "      <td>0</td>\n",
       "      <td>0</td>\n",
       "      <td>0</td>\n",
       "      <td>0</td>\n",
       "      <td>0</td>\n",
       "      <td>0</td>\n",
       "      <td>0</td>\n",
       "      <td>1</td>\n",
       "      <td>0</td>\n",
       "      <td>1</td>\n",
       "      <td>0</td>\n",
       "      <td>0</td>\n",
       "      <td>0</td>\n",
       "      <td>0</td>\n",
       "      <td>0</td>\n",
       "      <td>0</td>\n",
       "      <td>0</td>\n",
       "    </tr>\n",
       "    <tr>\n",
       "      <th>0_2017-09</th>\n",
       "      <td>0</td>\n",
       "      <td>0</td>\n",
       "      <td>0</td>\n",
       "      <td>0</td>\n",
       "      <td>0</td>\n",
       "      <td>0</td>\n",
       "      <td>0</td>\n",
       "      <td>0</td>\n",
       "      <td>0</td>\n",
       "      <td>0</td>\n",
       "      <td>0</td>\n",
       "      <td>0</td>\n",
       "      <td>0</td>\n",
       "      <td>0</td>\n",
       "      <td>0</td>\n",
       "      <td>0</td>\n",
       "      <td>0</td>\n",
       "      <td>0</td>\n",
       "      <td>0</td>\n",
       "      <td>0</td>\n",
       "      <td>0</td>\n",
       "      <td>0</td>\n",
       "      <td>0</td>\n",
       "      <td>0</td>\n",
       "      <td>0</td>\n",
       "      <td>0</td>\n",
       "      <td>0</td>\n",
       "      <td>0</td>\n",
       "      <td>0</td>\n",
       "      <td>0</td>\n",
       "      <td>0</td>\n",
       "      <td>0</td>\n",
       "      <td>0</td>\n",
       "      <td>0</td>\n",
       "      <td>0</td>\n",
       "      <td>0</td>\n",
       "      <td>0</td>\n",
       "      <td>0</td>\n",
       "      <td>0</td>\n",
       "      <td>0</td>\n",
       "      <td>0</td>\n",
       "      <td>0</td>\n",
       "      <td>1</td>\n",
       "      <td>0</td>\n",
       "      <td>1</td>\n",
       "      <td>0</td>\n",
       "      <td>0</td>\n",
       "      <td>0</td>\n",
       "      <td>0</td>\n",
       "      <td>0</td>\n",
       "    </tr>\n",
       "    <tr>\n",
       "      <th>0_2018-01</th>\n",
       "      <td>0</td>\n",
       "      <td>0</td>\n",
       "      <td>0</td>\n",
       "      <td>0</td>\n",
       "      <td>0</td>\n",
       "      <td>0</td>\n",
       "      <td>0</td>\n",
       "      <td>0</td>\n",
       "      <td>0</td>\n",
       "      <td>0</td>\n",
       "      <td>0</td>\n",
       "      <td>0</td>\n",
       "      <td>0</td>\n",
       "      <td>0</td>\n",
       "      <td>0</td>\n",
       "      <td>0</td>\n",
       "      <td>0</td>\n",
       "      <td>0</td>\n",
       "      <td>0</td>\n",
       "      <td>0</td>\n",
       "      <td>0</td>\n",
       "      <td>0</td>\n",
       "      <td>0</td>\n",
       "      <td>1</td>\n",
       "      <td>0</td>\n",
       "      <td>0</td>\n",
       "      <td>0</td>\n",
       "      <td>0</td>\n",
       "      <td>0</td>\n",
       "      <td>0</td>\n",
       "      <td>0</td>\n",
       "      <td>0</td>\n",
       "      <td>0</td>\n",
       "      <td>0</td>\n",
       "      <td>0</td>\n",
       "      <td>0</td>\n",
       "      <td>0</td>\n",
       "      <td>1</td>\n",
       "      <td>0</td>\n",
       "      <td>0</td>\n",
       "      <td>0</td>\n",
       "      <td>0</td>\n",
       "      <td>0</td>\n",
       "      <td>0</td>\n",
       "      <td>0</td>\n",
       "      <td>0</td>\n",
       "      <td>0</td>\n",
       "      <td>1</td>\n",
       "      <td>0</td>\n",
       "      <td>0</td>\n",
       "    </tr>\n",
       "    <tr>\n",
       "      <th>0_2018-04</th>\n",
       "      <td>0</td>\n",
       "      <td>0</td>\n",
       "      <td>0</td>\n",
       "      <td>0</td>\n",
       "      <td>0</td>\n",
       "      <td>1</td>\n",
       "      <td>0</td>\n",
       "      <td>0</td>\n",
       "      <td>0</td>\n",
       "      <td>0</td>\n",
       "      <td>0</td>\n",
       "      <td>0</td>\n",
       "      <td>0</td>\n",
       "      <td>0</td>\n",
       "      <td>0</td>\n",
       "      <td>0</td>\n",
       "      <td>0</td>\n",
       "      <td>0</td>\n",
       "      <td>0</td>\n",
       "      <td>0</td>\n",
       "      <td>0</td>\n",
       "      <td>0</td>\n",
       "      <td>0</td>\n",
       "      <td>1</td>\n",
       "      <td>0</td>\n",
       "      <td>0</td>\n",
       "      <td>0</td>\n",
       "      <td>0</td>\n",
       "      <td>0</td>\n",
       "      <td>0</td>\n",
       "      <td>0</td>\n",
       "      <td>0</td>\n",
       "      <td>0</td>\n",
       "      <td>0</td>\n",
       "      <td>0</td>\n",
       "      <td>0</td>\n",
       "      <td>0</td>\n",
       "      <td>1</td>\n",
       "      <td>0</td>\n",
       "      <td>0</td>\n",
       "      <td>0</td>\n",
       "      <td>0</td>\n",
       "      <td>0</td>\n",
       "      <td>0</td>\n",
       "      <td>0</td>\n",
       "      <td>0</td>\n",
       "      <td>0</td>\n",
       "      <td>0</td>\n",
       "      <td>0</td>\n",
       "      <td>0</td>\n",
       "    </tr>\n",
       "    <tr>\n",
       "      <th>10000_2017-08</th>\n",
       "      <td>0</td>\n",
       "      <td>0</td>\n",
       "      <td>0</td>\n",
       "      <td>0</td>\n",
       "      <td>0</td>\n",
       "      <td>0</td>\n",
       "      <td>0</td>\n",
       "      <td>0</td>\n",
       "      <td>0</td>\n",
       "      <td>0</td>\n",
       "      <td>0</td>\n",
       "      <td>0</td>\n",
       "      <td>0</td>\n",
       "      <td>0</td>\n",
       "      <td>0</td>\n",
       "      <td>0</td>\n",
       "      <td>0</td>\n",
       "      <td>0</td>\n",
       "      <td>0</td>\n",
       "      <td>0</td>\n",
       "      <td>0</td>\n",
       "      <td>0</td>\n",
       "      <td>0</td>\n",
       "      <td>0</td>\n",
       "      <td>0</td>\n",
       "      <td>0</td>\n",
       "      <td>0</td>\n",
       "      <td>0</td>\n",
       "      <td>0</td>\n",
       "      <td>0</td>\n",
       "      <td>0</td>\n",
       "      <td>0</td>\n",
       "      <td>0</td>\n",
       "      <td>0</td>\n",
       "      <td>0</td>\n",
       "      <td>0</td>\n",
       "      <td>0</td>\n",
       "      <td>0</td>\n",
       "      <td>0</td>\n",
       "      <td>0</td>\n",
       "      <td>1</td>\n",
       "      <td>0</td>\n",
       "      <td>0</td>\n",
       "      <td>0</td>\n",
       "      <td>0</td>\n",
       "      <td>0</td>\n",
       "      <td>0</td>\n",
       "      <td>0</td>\n",
       "      <td>0</td>\n",
       "      <td>0</td>\n",
       "    </tr>\n",
       "  </tbody>\n",
       "</table>\n",
       "</div>"
      ],
      "text/plain": [
       "Hizmet         0_8  10_9  11_11  12_7  13_11  14_7  15_1  16_8  17_5  18_4  19_6  1_4  20_5  21_5  22_0  23_10  24_10  25_0  26_7  27_7  28_4  29_0  2_0  30_2  31_6  32_4  33_4  34_6  35_11  36_1  37_0  38_4  39_10  3_5  40_8  41_3  42_1  43_2  44_0  45_6  46_4  47_7  48_5  49_1  4_5  5_11  6_7  7_3  8_5  9_4\n",
       "SepetID                                                                                                                                                                                                                                                                                                               \n",
       "0_2017-08        0     0      0     0      0     0     0     0     0     0     0    0     0     0     0      0      0     0     0     0     0     0    0     0     0     0     0     0      0     0     0     0      0    0     0     0     0     0     0     0     1     0     1     0    0     0    0    0    0    0\n",
       "0_2017-09        0     0      0     0      0     0     0     0     0     0     0    0     0     0     0      0      0     0     0     0     0     0    0     0     0     0     0     0      0     0     0     0      0    0     0     0     0     0     0     0     0     0     1     0    1     0    0    0    0    0\n",
       "0_2018-01        0     0      0     0      0     0     0     0     0     0     0    0     0     0     0      0      0     0     0     0     0     0    0     1     0     0     0     0      0     0     0     0      0    0     0     0     0     1     0     0     0     0     0     0    0     0    0    1    0    0\n",
       "0_2018-04        0     0      0     0      0     1     0     0     0     0     0    0     0     0     0      0      0     0     0     0     0     0    0     1     0     0     0     0      0     0     0     0      0    0     0     0     0     1     0     0     0     0     0     0    0     0    0    0    0    0\n",
       "10000_2017-08    0     0      0     0      0     0     0     0     0     0     0    0     0     0     0      0      0     0     0     0     0     0    0     0     0     0     0     0      0     0     0     0      0    0     0     0     0     0     0     0     1     0     0     0    0     0    0    0    0    0"
      ]
     },
     "execution_count": 17,
     "metadata": {},
     "output_type": "execute_result"
    }
   ],
   "source": [
    "invoice_product_df.head()"
   ]
  },
  {
   "cell_type": "code",
   "execution_count": 18,
   "id": "1edb4b8e",
   "metadata": {
    "execution": {
     "iopub.execute_input": "2023-06-22T13:33:47.676497Z",
     "iopub.status.busy": "2023-06-22T13:33:47.676108Z",
     "iopub.status.idle": "2023-06-22T13:33:48.419613Z",
     "shell.execute_reply": "2023-06-22T13:33:48.418486Z"
    },
    "papermill": {
     "duration": 0.760551,
     "end_time": "2023-06-22T13:33:48.422500",
     "exception": false,
     "start_time": "2023-06-22T13:33:47.661949",
     "status": "completed"
    },
    "tags": []
   },
   "outputs": [
    {
     "name": "stderr",
     "output_type": "stream",
     "text": [
      "/opt/conda/lib/python3.10/site-packages/mlxtend/frequent_patterns/fpcommon.py:110: DeprecationWarning: DataFrames with non-bool types result in worse computationalperformance and their support might be discontinued in the future.Please use a DataFrame with bool type\n",
      "  warnings.warn(\n"
     ]
    }
   ],
   "source": [
    "# We obtained all probabilities by creating association rules with apriori.\n",
    "\n",
    "frequent_itemsets = apriori(invoice_product_df, min_support=0.01, use_colnames=True)"
   ]
  },
  {
   "cell_type": "code",
   "execution_count": 19,
   "id": "301e95a8",
   "metadata": {
    "execution": {
     "iopub.execute_input": "2023-06-22T13:33:48.450481Z",
     "iopub.status.busy": "2023-06-22T13:33:48.449742Z",
     "iopub.status.idle": "2023-06-22T13:33:48.465158Z",
     "shell.execute_reply": "2023-06-22T13:33:48.464225Z"
    },
    "papermill": {
     "duration": 0.032469,
     "end_time": "2023-06-22T13:33:48.467531",
     "exception": false,
     "start_time": "2023-06-22T13:33:48.435062",
     "status": "completed"
    },
    "tags": []
   },
   "outputs": [
    {
     "data": {
      "text/html": [
       "<div>\n",
       "<style scoped>\n",
       "    .dataframe tbody tr th:only-of-type {\n",
       "        vertical-align: middle;\n",
       "    }\n",
       "\n",
       "    .dataframe tbody tr th {\n",
       "        vertical-align: top;\n",
       "    }\n",
       "\n",
       "    .dataframe thead th {\n",
       "        text-align: right;\n",
       "    }\n",
       "</style>\n",
       "<table border=\"1\" class=\"dataframe\">\n",
       "  <thead>\n",
       "    <tr style=\"text-align: right;\">\n",
       "      <th></th>\n",
       "      <th>support</th>\n",
       "      <th>itemsets</th>\n",
       "    </tr>\n",
       "  </thead>\n",
       "  <tbody>\n",
       "    <tr>\n",
       "      <th>0</th>\n",
       "      <td>0.019728</td>\n",
       "      <td>(0_8)</td>\n",
       "    </tr>\n",
       "    <tr>\n",
       "      <th>1</th>\n",
       "      <td>0.026523</td>\n",
       "      <td>(11_11)</td>\n",
       "    </tr>\n",
       "    <tr>\n",
       "      <th>2</th>\n",
       "      <td>0.029374</td>\n",
       "      <td>(12_7)</td>\n",
       "    </tr>\n",
       "    <tr>\n",
       "      <th>3</th>\n",
       "      <td>0.056627</td>\n",
       "      <td>(13_11)</td>\n",
       "    </tr>\n",
       "    <tr>\n",
       "      <th>4</th>\n",
       "      <td>0.023406</td>\n",
       "      <td>(14_7)</td>\n",
       "    </tr>\n",
       "  </tbody>\n",
       "</table>\n",
       "</div>"
      ],
      "text/plain": [
       "    support itemsets\n",
       "0  0.019728    (0_8)\n",
       "1  0.026523  (11_11)\n",
       "2  0.029374   (12_7)\n",
       "3  0.056627  (13_11)\n",
       "4  0.023406   (14_7)"
      ]
     },
     "execution_count": 19,
     "metadata": {},
     "output_type": "execute_result"
    }
   ],
   "source": [
    "frequent_itemsets.head()"
   ]
  },
  {
   "cell_type": "code",
   "execution_count": 20,
   "id": "a3d732ac",
   "metadata": {
    "execution": {
     "iopub.execute_input": "2023-06-22T13:33:48.494482Z",
     "iopub.status.busy": "2023-06-22T13:33:48.494075Z",
     "iopub.status.idle": "2023-06-22T13:33:48.504323Z",
     "shell.execute_reply": "2023-06-22T13:33:48.503122Z"
    },
    "papermill": {
     "duration": 0.026435,
     "end_time": "2023-06-22T13:33:48.506681",
     "exception": false,
     "start_time": "2023-06-22T13:33:48.480246",
     "status": "completed"
    },
    "tags": []
   },
   "outputs": [],
   "source": [
    "rules = association_rules(frequent_itemsets, metric=\"support\", min_threshold=0.01)"
   ]
  },
  {
   "cell_type": "code",
   "execution_count": 21,
   "id": "b11dafdf",
   "metadata": {
    "execution": {
     "iopub.execute_input": "2023-06-22T13:33:48.534338Z",
     "iopub.status.busy": "2023-06-22T13:33:48.533878Z",
     "iopub.status.idle": "2023-06-22T13:33:48.573136Z",
     "shell.execute_reply": "2023-06-22T13:33:48.571958Z"
    },
    "papermill": {
     "duration": 0.056056,
     "end_time": "2023-06-22T13:33:48.575942",
     "exception": false,
     "start_time": "2023-06-22T13:33:48.519886",
     "status": "completed"
    },
    "tags": []
   },
   "outputs": [
    {
     "data": {
      "text/html": [
       "<div>\n",
       "<style scoped>\n",
       "    .dataframe tbody tr th:only-of-type {\n",
       "        vertical-align: middle;\n",
       "    }\n",
       "\n",
       "    .dataframe tbody tr th {\n",
       "        vertical-align: top;\n",
       "    }\n",
       "\n",
       "    .dataframe thead th {\n",
       "        text-align: right;\n",
       "    }\n",
       "</style>\n",
       "<table border=\"1\" class=\"dataframe\">\n",
       "  <thead>\n",
       "    <tr style=\"text-align: right;\">\n",
       "      <th></th>\n",
       "      <th>antecedents</th>\n",
       "      <th>consequents</th>\n",
       "      <th>antecedent support</th>\n",
       "      <th>consequent support</th>\n",
       "      <th>support</th>\n",
       "      <th>confidence</th>\n",
       "      <th>lift</th>\n",
       "      <th>leverage</th>\n",
       "      <th>conviction</th>\n",
       "      <th>zhangs_metric</th>\n",
       "    </tr>\n",
       "  </thead>\n",
       "  <tbody>\n",
       "    <tr>\n",
       "      <th>0</th>\n",
       "      <td>(13_11)</td>\n",
       "      <td>(2_0)</td>\n",
       "      <td>0.056627</td>\n",
       "      <td>0.130286</td>\n",
       "      <td>0.012819</td>\n",
       "      <td>0.226382</td>\n",
       "      <td>1.737574</td>\n",
       "      <td>0.005442</td>\n",
       "      <td>1.124216</td>\n",
       "      <td>0.449965</td>\n",
       "    </tr>\n",
       "    <tr>\n",
       "      <th>1</th>\n",
       "      <td>(2_0)</td>\n",
       "      <td>(13_11)</td>\n",
       "      <td>0.130286</td>\n",
       "      <td>0.056627</td>\n",
       "      <td>0.012819</td>\n",
       "      <td>0.098394</td>\n",
       "      <td>1.737574</td>\n",
       "      <td>0.005442</td>\n",
       "      <td>1.046325</td>\n",
       "      <td>0.488074</td>\n",
       "    </tr>\n",
       "    <tr>\n",
       "      <th>2</th>\n",
       "      <td>(15_1)</td>\n",
       "      <td>(2_0)</td>\n",
       "      <td>0.120963</td>\n",
       "      <td>0.130286</td>\n",
       "      <td>0.033951</td>\n",
       "      <td>0.280673</td>\n",
       "      <td>2.154278</td>\n",
       "      <td>0.018191</td>\n",
       "      <td>1.209066</td>\n",
       "      <td>0.609539</td>\n",
       "    </tr>\n",
       "    <tr>\n",
       "      <th>3</th>\n",
       "      <td>(2_0)</td>\n",
       "      <td>(15_1)</td>\n",
       "      <td>0.130286</td>\n",
       "      <td>0.120963</td>\n",
       "      <td>0.033951</td>\n",
       "      <td>0.260588</td>\n",
       "      <td>2.154278</td>\n",
       "      <td>0.018191</td>\n",
       "      <td>1.188833</td>\n",
       "      <td>0.616073</td>\n",
       "    </tr>\n",
       "    <tr>\n",
       "      <th>4</th>\n",
       "      <td>(15_1)</td>\n",
       "      <td>(33_4)</td>\n",
       "      <td>0.120963</td>\n",
       "      <td>0.027310</td>\n",
       "      <td>0.011233</td>\n",
       "      <td>0.092861</td>\n",
       "      <td>3.400299</td>\n",
       "      <td>0.007929</td>\n",
       "      <td>1.072262</td>\n",
       "      <td>0.803047</td>\n",
       "    </tr>\n",
       "    <tr>\n",
       "      <th>5</th>\n",
       "      <td>(33_4)</td>\n",
       "      <td>(15_1)</td>\n",
       "      <td>0.027310</td>\n",
       "      <td>0.120963</td>\n",
       "      <td>0.011233</td>\n",
       "      <td>0.411311</td>\n",
       "      <td>3.400299</td>\n",
       "      <td>0.007929</td>\n",
       "      <td>1.493211</td>\n",
       "      <td>0.725728</td>\n",
       "    </tr>\n",
       "    <tr>\n",
       "      <th>6</th>\n",
       "      <td>(38_4)</td>\n",
       "      <td>(15_1)</td>\n",
       "      <td>0.066568</td>\n",
       "      <td>0.120963</td>\n",
       "      <td>0.011177</td>\n",
       "      <td>0.167897</td>\n",
       "      <td>1.388001</td>\n",
       "      <td>0.003124</td>\n",
       "      <td>1.056404</td>\n",
       "      <td>0.299475</td>\n",
       "    </tr>\n",
       "    <tr>\n",
       "      <th>7</th>\n",
       "      <td>(15_1)</td>\n",
       "      <td>(38_4)</td>\n",
       "      <td>0.120963</td>\n",
       "      <td>0.066568</td>\n",
       "      <td>0.011177</td>\n",
       "      <td>0.092397</td>\n",
       "      <td>1.388001</td>\n",
       "      <td>0.003124</td>\n",
       "      <td>1.028458</td>\n",
       "      <td>0.318007</td>\n",
       "    </tr>\n",
       "    <tr>\n",
       "      <th>8</th>\n",
       "      <td>(15_1)</td>\n",
       "      <td>(49_1)</td>\n",
       "      <td>0.120963</td>\n",
       "      <td>0.067762</td>\n",
       "      <td>0.010011</td>\n",
       "      <td>0.082763</td>\n",
       "      <td>1.221375</td>\n",
       "      <td>0.001815</td>\n",
       "      <td>1.016354</td>\n",
       "      <td>0.206192</td>\n",
       "    </tr>\n",
       "    <tr>\n",
       "      <th>9</th>\n",
       "      <td>(49_1)</td>\n",
       "      <td>(15_1)</td>\n",
       "      <td>0.067762</td>\n",
       "      <td>0.120963</td>\n",
       "      <td>0.010011</td>\n",
       "      <td>0.147741</td>\n",
       "      <td>1.221375</td>\n",
       "      <td>0.001815</td>\n",
       "      <td>1.031420</td>\n",
       "      <td>0.194425</td>\n",
       "    </tr>\n",
       "    <tr>\n",
       "      <th>10</th>\n",
       "      <td>(22_0)</td>\n",
       "      <td>(25_0)</td>\n",
       "      <td>0.047515</td>\n",
       "      <td>0.042895</td>\n",
       "      <td>0.011120</td>\n",
       "      <td>0.234043</td>\n",
       "      <td>5.456141</td>\n",
       "      <td>0.009082</td>\n",
       "      <td>1.249553</td>\n",
       "      <td>0.857462</td>\n",
       "    </tr>\n",
       "    <tr>\n",
       "      <th>11</th>\n",
       "      <td>(25_0)</td>\n",
       "      <td>(22_0)</td>\n",
       "      <td>0.042895</td>\n",
       "      <td>0.047515</td>\n",
       "      <td>0.011120</td>\n",
       "      <td>0.259247</td>\n",
       "      <td>5.456141</td>\n",
       "      <td>0.009082</td>\n",
       "      <td>1.285834</td>\n",
       "      <td>0.853324</td>\n",
       "    </tr>\n",
       "    <tr>\n",
       "      <th>12</th>\n",
       "      <td>(2_0)</td>\n",
       "      <td>(22_0)</td>\n",
       "      <td>0.130286</td>\n",
       "      <td>0.047515</td>\n",
       "      <td>0.016568</td>\n",
       "      <td>0.127169</td>\n",
       "      <td>2.676409</td>\n",
       "      <td>0.010378</td>\n",
       "      <td>1.091260</td>\n",
       "      <td>0.720197</td>\n",
       "    </tr>\n",
       "    <tr>\n",
       "      <th>13</th>\n",
       "      <td>(22_0)</td>\n",
       "      <td>(2_0)</td>\n",
       "      <td>0.047515</td>\n",
       "      <td>0.130286</td>\n",
       "      <td>0.016568</td>\n",
       "      <td>0.348700</td>\n",
       "      <td>2.676409</td>\n",
       "      <td>0.010378</td>\n",
       "      <td>1.335350</td>\n",
       "      <td>0.657611</td>\n",
       "    </tr>\n",
       "    <tr>\n",
       "      <th>14</th>\n",
       "      <td>(2_0)</td>\n",
       "      <td>(25_0)</td>\n",
       "      <td>0.130286</td>\n",
       "      <td>0.042895</td>\n",
       "      <td>0.013437</td>\n",
       "      <td>0.103136</td>\n",
       "      <td>2.404371</td>\n",
       "      <td>0.007849</td>\n",
       "      <td>1.067168</td>\n",
       "      <td>0.671590</td>\n",
       "    </tr>\n",
       "    <tr>\n",
       "      <th>15</th>\n",
       "      <td>(25_0)</td>\n",
       "      <td>(2_0)</td>\n",
       "      <td>0.042895</td>\n",
       "      <td>0.130286</td>\n",
       "      <td>0.013437</td>\n",
       "      <td>0.313257</td>\n",
       "      <td>2.404371</td>\n",
       "      <td>0.007849</td>\n",
       "      <td>1.266432</td>\n",
       "      <td>0.610268</td>\n",
       "    </tr>\n",
       "    <tr>\n",
       "      <th>16</th>\n",
       "      <td>(38_4)</td>\n",
       "      <td>(2_0)</td>\n",
       "      <td>0.066568</td>\n",
       "      <td>0.130286</td>\n",
       "      <td>0.011191</td>\n",
       "      <td>0.168108</td>\n",
       "      <td>1.290295</td>\n",
       "      <td>0.002518</td>\n",
       "      <td>1.045465</td>\n",
       "      <td>0.241029</td>\n",
       "    </tr>\n",
       "    <tr>\n",
       "      <th>17</th>\n",
       "      <td>(2_0)</td>\n",
       "      <td>(38_4)</td>\n",
       "      <td>0.130286</td>\n",
       "      <td>0.066568</td>\n",
       "      <td>0.011191</td>\n",
       "      <td>0.085893</td>\n",
       "      <td>1.290295</td>\n",
       "      <td>0.002518</td>\n",
       "      <td>1.021140</td>\n",
       "      <td>0.258687</td>\n",
       "    </tr>\n",
       "    <tr>\n",
       "      <th>18</th>\n",
       "      <td>(38_4)</td>\n",
       "      <td>(9_4)</td>\n",
       "      <td>0.066568</td>\n",
       "      <td>0.041393</td>\n",
       "      <td>0.010067</td>\n",
       "      <td>0.151234</td>\n",
       "      <td>3.653623</td>\n",
       "      <td>0.007312</td>\n",
       "      <td>1.129413</td>\n",
       "      <td>0.778096</td>\n",
       "    </tr>\n",
       "    <tr>\n",
       "      <th>19</th>\n",
       "      <td>(9_4)</td>\n",
       "      <td>(38_4)</td>\n",
       "      <td>0.041393</td>\n",
       "      <td>0.066568</td>\n",
       "      <td>0.010067</td>\n",
       "      <td>0.243216</td>\n",
       "      <td>3.653623</td>\n",
       "      <td>0.007312</td>\n",
       "      <td>1.233418</td>\n",
       "      <td>0.757661</td>\n",
       "    </tr>\n",
       "  </tbody>\n",
       "</table>\n",
       "</div>"
      ],
      "text/plain": [
       "   antecedents consequents  antecedent support  consequent support   support  confidence      lift  leverage  conviction  zhangs_metric\n",
       "0      (13_11)       (2_0)            0.056627            0.130286  0.012819    0.226382  1.737574  0.005442    1.124216       0.449965\n",
       "1        (2_0)     (13_11)            0.130286            0.056627  0.012819    0.098394  1.737574  0.005442    1.046325       0.488074\n",
       "2       (15_1)       (2_0)            0.120963            0.130286  0.033951    0.280673  2.154278  0.018191    1.209066       0.609539\n",
       "3        (2_0)      (15_1)            0.130286            0.120963  0.033951    0.260588  2.154278  0.018191    1.188833       0.616073\n",
       "4       (15_1)      (33_4)            0.120963            0.027310  0.011233    0.092861  3.400299  0.007929    1.072262       0.803047\n",
       "5       (33_4)      (15_1)            0.027310            0.120963  0.011233    0.411311  3.400299  0.007929    1.493211       0.725728\n",
       "6       (38_4)      (15_1)            0.066568            0.120963  0.011177    0.167897  1.388001  0.003124    1.056404       0.299475\n",
       "7       (15_1)      (38_4)            0.120963            0.066568  0.011177    0.092397  1.388001  0.003124    1.028458       0.318007\n",
       "8       (15_1)      (49_1)            0.120963            0.067762  0.010011    0.082763  1.221375  0.001815    1.016354       0.206192\n",
       "9       (49_1)      (15_1)            0.067762            0.120963  0.010011    0.147741  1.221375  0.001815    1.031420       0.194425\n",
       "10      (22_0)      (25_0)            0.047515            0.042895  0.011120    0.234043  5.456141  0.009082    1.249553       0.857462\n",
       "11      (25_0)      (22_0)            0.042895            0.047515  0.011120    0.259247  5.456141  0.009082    1.285834       0.853324\n",
       "12       (2_0)      (22_0)            0.130286            0.047515  0.016568    0.127169  2.676409  0.010378    1.091260       0.720197\n",
       "13      (22_0)       (2_0)            0.047515            0.130286  0.016568    0.348700  2.676409  0.010378    1.335350       0.657611\n",
       "14       (2_0)      (25_0)            0.130286            0.042895  0.013437    0.103136  2.404371  0.007849    1.067168       0.671590\n",
       "15      (25_0)       (2_0)            0.042895            0.130286  0.013437    0.313257  2.404371  0.007849    1.266432       0.610268\n",
       "16      (38_4)       (2_0)            0.066568            0.130286  0.011191    0.168108  1.290295  0.002518    1.045465       0.241029\n",
       "17       (2_0)      (38_4)            0.130286            0.066568  0.011191    0.085893  1.290295  0.002518    1.021140       0.258687\n",
       "18      (38_4)       (9_4)            0.066568            0.041393  0.010067    0.151234  3.653623  0.007312    1.129413       0.778096\n",
       "19       (9_4)      (38_4)            0.041393            0.066568  0.010067    0.243216  3.653623  0.007312    1.233418       0.757661"
      ]
     },
     "execution_count": 21,
     "metadata": {},
     "output_type": "execute_result"
    }
   ],
   "source": [
    "rules.head(20)"
   ]
  },
  {
   "cell_type": "markdown",
   "id": "1f3d75ee",
   "metadata": {
    "papermill": {
     "duration": 0.013049,
     "end_time": "2023-06-22T13:33:48.602449",
     "exception": false,
     "start_time": "2023-06-22T13:33:48.589400",
     "status": "completed"
    },
    "tags": []
   },
   "source": [
    "# 4. Suggesting Products to Users at the Cart Stage"
   ]
  },
  {
   "cell_type": "code",
   "execution_count": 22,
   "id": "5a16ba69",
   "metadata": {
    "execution": {
     "iopub.execute_input": "2023-06-22T13:33:48.631253Z",
     "iopub.status.busy": "2023-06-22T13:33:48.630846Z",
     "iopub.status.idle": "2023-06-22T13:33:48.637714Z",
     "shell.execute_reply": "2023-06-22T13:33:48.636614Z"
    },
    "papermill": {
     "duration": 0.023982,
     "end_time": "2023-06-22T13:33:48.640181",
     "exception": false,
     "start_time": "2023-06-22T13:33:48.616199",
     "status": "completed"
    },
    "tags": []
   },
   "outputs": [],
   "source": [
    "def arl_recommender(rules_df, product_id, rec_count=1):\n",
    "    sorted_rules = rules_df.sort_values(\"lift\", ascending=False)\n",
    "    recommendation_list = [] \n",
    "    for i, product in sorted_rules[\"antecedents\"].items():\n",
    "        for j in list(product): \n",
    "            if j == product_id:\n",
    "                recommendation_list.append(list(sorted_rules.iloc[i][\"consequents\"]))\n",
    "    recommendation_list = list({item for item_list in recommendation_list for item in item_list})\n",
    "    return recommendation_list[:rec_count] "
   ]
  },
  {
   "cell_type": "code",
   "execution_count": 23,
   "id": "d2256719",
   "metadata": {
    "execution": {
     "iopub.execute_input": "2023-06-22T13:33:48.668892Z",
     "iopub.status.busy": "2023-06-22T13:33:48.667765Z",
     "iopub.status.idle": "2023-06-22T13:33:48.677251Z",
     "shell.execute_reply": "2023-06-22T13:33:48.676430Z"
    },
    "papermill": {
     "duration": 0.025958,
     "end_time": "2023-06-22T13:33:48.679408",
     "exception": false,
     "start_time": "2023-06-22T13:33:48.653450",
     "status": "completed"
    },
    "tags": []
   },
   "outputs": [
    {
     "data": {
      "text/plain": [
       "['38_4', '13_11', '22_0', '15_1']"
      ]
     },
     "execution_count": 23,
     "metadata": {},
     "output_type": "execute_result"
    }
   ],
   "source": [
    "arl_recommender(rules,\"2_0\", 4)"
   ]
  },
  {
   "cell_type": "code",
   "execution_count": 24,
   "id": "5f04a11f",
   "metadata": {
    "execution": {
     "iopub.execute_input": "2023-06-22T13:33:48.708193Z",
     "iopub.status.busy": "2023-06-22T13:33:48.707471Z",
     "iopub.status.idle": "2023-06-22T13:33:48.714261Z",
     "shell.execute_reply": "2023-06-22T13:33:48.713502Z"
    },
    "papermill": {
     "duration": 0.023586,
     "end_time": "2023-06-22T13:33:48.716389",
     "exception": false,
     "start_time": "2023-06-22T13:33:48.692803",
     "status": "completed"
    },
    "tags": []
   },
   "outputs": [
    {
     "data": {
      "text/plain": [
       "['25_0']"
      ]
     },
     "execution_count": 24,
     "metadata": {},
     "output_type": "execute_result"
    }
   ],
   "source": [
    "arl_recommender(rules,\"13_11\", 4)"
   ]
  }
 ],
 "metadata": {
  "kernelspec": {
   "display_name": "Python 3",
   "language": "python",
   "name": "python3"
  },
  "language_info": {
   "codemirror_mode": {
    "name": "ipython",
    "version": 3
   },
   "file_extension": ".py",
   "mimetype": "text/x-python",
   "name": "python",
   "nbconvert_exporter": "python",
   "pygments_lexer": "ipython3",
   "version": "3.10.10"
  },
  "papermill": {
   "default_parameters": {},
   "duration": 36.285458,
   "end_time": "2023-06-22T13:33:49.652521",
   "environment_variables": {},
   "exception": null,
   "input_path": "__notebook__.ipynb",
   "output_path": "__notebook__.ipynb",
   "parameters": {},
   "start_time": "2023-06-22T13:33:13.367063",
   "version": "2.4.0"
  }
 },
 "nbformat": 4,
 "nbformat_minor": 5
}
